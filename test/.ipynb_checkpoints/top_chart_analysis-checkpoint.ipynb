{
 "cells": [
  {
   "cell_type": "code",
   "execution_count": 10,
   "metadata": {},
   "outputs": [],
   "source": [
    "import spotipy\n",
    "from spotipy.oauth2 import SpotifyClientCredentials\n",
    "from client_id import *\n",
    "import sys\n",
    "import pandas as pd\n",
    "import pprint\n",
    "\n",
    "client_credentials_manager = spotipy.oauth2.SpotifyClientCredentials(CLIEND_ID, CLIEND_SECRET)\n",
    "spotify = spotipy.Spotify(client_credentials_manager=client_credentials_manager)\n",
    "\n",
    "# PandasでCSVを読み込む、最初の行は省略\n",
    "songs = pd.read_csv(\"./sampleData/regional-jp-daily-latest.csv\", index_col=0, header=1)\n",
    "# インデックスをリセットし、振り直す 0-index\n",
    "songs = songs.reset_index()\n",
    "#print(songs.head(10))\n",
    "#[position, track_name, artist, stream, url]\n",
    "\n",
    "# PandasのDataFrame作成\n",
    "song_info = pd.DataFrame()\n",
    "\n",
    "# 楽曲数分の情報を取得\n",
    "for url in songs[\"URL\"]: \n",
    "    df = pd.DataFrame.from_dict(spotify.audio_features(url))\n",
    "    song_info = song_info.append(df)\n",
    "#print(song_info.head(10)) このままだと0のindexがそのまま追加されている\n",
    "\n",
    "# song_infoのインデックスを振り直す\n",
    "song_info = song_info.reset_index(drop=True)#drop=Trueでもとのindexをdrop\n",
    "#print(song_info.head(10))\n",
    "#[acousticness, analysis_url, danceability, duration_ms, energy, id, instrumentalness, key, liveness, loudness]\n",
    "\n",
    "feature_table = pd.concat([songs, song_info], axis=1).to_csv(\"./sampleData/songs.csv\")"
   ]
  }
 ],
 "metadata": {
  "kernelspec": {
   "display_name": "Python 3",
   "language": "python",
   "name": "python3"
  },
  "language_info": {
   "codemirror_mode": {
    "name": "ipython",
    "version": 3
   },
   "file_extension": ".py",
   "mimetype": "text/x-python",
   "name": "python",
   "nbconvert_exporter": "python",
   "pygments_lexer": "ipython3",
   "version": "3.7.3"
  }
 },
 "nbformat": 4,
 "nbformat_minor": 2
}
